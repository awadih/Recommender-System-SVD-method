{
 "cells": [
  {
   "cell_type": "markdown",
   "metadata": {
    "pycharm": {
     "name": "#%% md\n"
    }
   },
   "source": [
    "## Data exploration\n",
    "Movies Bewertungsmatrix"
   ]
  },
  {
   "cell_type": "code",
   "execution_count": 84,
   "metadata": {
    "collapsed": false,
    "jupyter": {
     "outputs_hidden": false
    },
    "pycharm": {
     "name": "#%%\n"
    }
   },
   "outputs": [],
   "source": [
    "from logics.parser import create_dataframe\n",
    "from logics.main import recommend_to_user\n",
    "from math import prod"
   ]
  },
  {
   "cell_type": "code",
   "execution_count": 85,
   "metadata": {
    "collapsed": false,
    "jupyter": {
     "outputs_hidden": false
    },
    "pycharm": {
     "name": "#%%\n"
    }
   },
   "outputs": [
    {
     "data": {
      "text/html": [
       "<div>\n",
       "<style scoped>\n",
       "    .dataframe tbody tr th:only-of-type {\n",
       "        vertical-align: middle;\n",
       "    }\n",
       "\n",
       "    .dataframe tbody tr th {\n",
       "        vertical-align: top;\n",
       "    }\n",
       "\n",
       "    .dataframe thead th {\n",
       "        text-align: right;\n",
       "    }\n",
       "</style>\n",
       "<table border=\"1\" class=\"dataframe\">\n",
       "  <thead>\n",
       "    <tr style=\"text-align: right;\">\n",
       "      <th></th>\n",
       "      <th>User 1</th>\n",
       "      <th>User 2</th>\n",
       "      <th>User 3</th>\n",
       "      <th>User 4</th>\n",
       "      <th>User 5</th>\n",
       "      <th>User 6</th>\n",
       "      <th>User 7</th>\n",
       "      <th>User 8</th>\n",
       "      <th>User 9</th>\n",
       "      <th>User 10</th>\n",
       "      <th>...</th>\n",
       "      <th>User 934</th>\n",
       "      <th>User 935</th>\n",
       "      <th>User 936</th>\n",
       "      <th>User 937</th>\n",
       "      <th>User 938</th>\n",
       "      <th>User 939</th>\n",
       "      <th>User 940</th>\n",
       "      <th>User 941</th>\n",
       "      <th>User 942</th>\n",
       "      <th>User 943</th>\n",
       "    </tr>\n",
       "  </thead>\n",
       "  <tbody>\n",
       "    <tr>\n",
       "      <th>1. Toy Story(1995)</th>\n",
       "      <td>5</td>\n",
       "      <td>4</td>\n",
       "      <td>0</td>\n",
       "      <td>0</td>\n",
       "      <td>4</td>\n",
       "      <td>4</td>\n",
       "      <td>0</td>\n",
       "      <td>0</td>\n",
       "      <td>0</td>\n",
       "      <td>4</td>\n",
       "      <td>...</td>\n",
       "      <td>2</td>\n",
       "      <td>3</td>\n",
       "      <td>4</td>\n",
       "      <td>0</td>\n",
       "      <td>4</td>\n",
       "      <td>0</td>\n",
       "      <td>0</td>\n",
       "      <td>5</td>\n",
       "      <td>0</td>\n",
       "      <td>0</td>\n",
       "    </tr>\n",
       "    <tr>\n",
       "      <th>2. GoldenEye(1995)</th>\n",
       "      <td>3</td>\n",
       "      <td>0</td>\n",
       "      <td>0</td>\n",
       "      <td>0</td>\n",
       "      <td>3</td>\n",
       "      <td>0</td>\n",
       "      <td>0</td>\n",
       "      <td>0</td>\n",
       "      <td>0</td>\n",
       "      <td>0</td>\n",
       "      <td>...</td>\n",
       "      <td>4</td>\n",
       "      <td>0</td>\n",
       "      <td>0</td>\n",
       "      <td>0</td>\n",
       "      <td>0</td>\n",
       "      <td>0</td>\n",
       "      <td>0</td>\n",
       "      <td>0</td>\n",
       "      <td>0</td>\n",
       "      <td>5</td>\n",
       "    </tr>\n",
       "    <tr>\n",
       "      <th>3. Four Rooms(1995)</th>\n",
       "      <td>4</td>\n",
       "      <td>0</td>\n",
       "      <td>0</td>\n",
       "      <td>0</td>\n",
       "      <td>0</td>\n",
       "      <td>0</td>\n",
       "      <td>0</td>\n",
       "      <td>0</td>\n",
       "      <td>0</td>\n",
       "      <td>0</td>\n",
       "      <td>...</td>\n",
       "      <td>0</td>\n",
       "      <td>0</td>\n",
       "      <td>4</td>\n",
       "      <td>0</td>\n",
       "      <td>0</td>\n",
       "      <td>0</td>\n",
       "      <td>0</td>\n",
       "      <td>0</td>\n",
       "      <td>0</td>\n",
       "      <td>0</td>\n",
       "    </tr>\n",
       "    <tr>\n",
       "      <th>4. Get Shorty(1995)</th>\n",
       "      <td>3</td>\n",
       "      <td>0</td>\n",
       "      <td>0</td>\n",
       "      <td>0</td>\n",
       "      <td>0</td>\n",
       "      <td>0</td>\n",
       "      <td>5</td>\n",
       "      <td>0</td>\n",
       "      <td>0</td>\n",
       "      <td>4</td>\n",
       "      <td>...</td>\n",
       "      <td>5</td>\n",
       "      <td>0</td>\n",
       "      <td>0</td>\n",
       "      <td>0</td>\n",
       "      <td>0</td>\n",
       "      <td>0</td>\n",
       "      <td>2</td>\n",
       "      <td>0</td>\n",
       "      <td>0</td>\n",
       "      <td>0</td>\n",
       "    </tr>\n",
       "    <tr>\n",
       "      <th>5. Copycat(1995)</th>\n",
       "      <td>3</td>\n",
       "      <td>0</td>\n",
       "      <td>0</td>\n",
       "      <td>0</td>\n",
       "      <td>0</td>\n",
       "      <td>0</td>\n",
       "      <td>0</td>\n",
       "      <td>0</td>\n",
       "      <td>0</td>\n",
       "      <td>0</td>\n",
       "      <td>...</td>\n",
       "      <td>0</td>\n",
       "      <td>0</td>\n",
       "      <td>0</td>\n",
       "      <td>0</td>\n",
       "      <td>0</td>\n",
       "      <td>0</td>\n",
       "      <td>0</td>\n",
       "      <td>0</td>\n",
       "      <td>0</td>\n",
       "      <td>0</td>\n",
       "    </tr>\n",
       "  </tbody>\n",
       "</table>\n",
       "<p>5 rows × 943 columns</p>\n",
       "</div>"
      ],
      "text/plain": [
       "                     User 1  User 2  User 3  User 4  User 5  User 6  User 7  \\\n",
       "1. Toy Story(1995)        5       4       0       0       4       4       0   \n",
       "2. GoldenEye(1995)        3       0       0       0       3       0       0   \n",
       "3. Four Rooms(1995)       4       0       0       0       0       0       0   \n",
       "4. Get Shorty(1995)       3       0       0       0       0       0       5   \n",
       "5. Copycat(1995)          3       0       0       0       0       0       0   \n",
       "\n",
       "                     User 8  User 9  User 10  ...  User 934  User 935  \\\n",
       "1. Toy Story(1995)        0       0        4  ...         2         3   \n",
       "2. GoldenEye(1995)        0       0        0  ...         4         0   \n",
       "3. Four Rooms(1995)       0       0        0  ...         0         0   \n",
       "4. Get Shorty(1995)       0       0        4  ...         5         0   \n",
       "5. Copycat(1995)          0       0        0  ...         0         0   \n",
       "\n",
       "                     User 936  User 937  User 938  User 939  User 940  \\\n",
       "1. Toy Story(1995)          4         0         4         0         0   \n",
       "2. GoldenEye(1995)          0         0         0         0         0   \n",
       "3. Four Rooms(1995)         4         0         0         0         0   \n",
       "4. Get Shorty(1995)         0         0         0         0         2   \n",
       "5. Copycat(1995)            0         0         0         0         0   \n",
       "\n",
       "                     User 941  User 942  User 943  \n",
       "1. Toy Story(1995)          5         0         0  \n",
       "2. GoldenEye(1995)          0         0         5  \n",
       "3. Four Rooms(1995)         0         0         0  \n",
       "4. Get Shorty(1995)         0         0         0  \n",
       "5. Copycat(1995)            0         0         0  \n",
       "\n",
       "[5 rows x 943 columns]"
      ]
     },
     "execution_count": 85,
     "metadata": {},
     "output_type": "execute_result"
    }
   ],
   "source": [
    "df = create_dataframe('resources/movies.mat', 'resources/movie_ids.txt')\n",
    "df.head()"
   ]
  },
  {
   "cell_type": "code",
   "execution_count": 86,
   "metadata": {
    "collapsed": false,
    "jupyter": {
     "outputs_hidden": false
    },
    "pycharm": {
     "name": "#%%\n"
    }
   },
   "outputs": [
    {
     "name": "stdout",
     "output_type": "stream",
     "text": [
      "Number of movies: 1682\n",
      "Number of users: 943\n"
     ]
    }
   ],
   "source": [
    "# Number of movies\n",
    "print(f'Number of movies: {df.shape[0]}')\n",
    "# Number of users\n",
    "print(f'Number of users: {df.shape[1]}')"
   ]
  },
  {
   "cell_type": "markdown",
   "metadata": {
    "pycharm": {
     "name": "#%% md\n"
    }
   },
   "source": [
    "Check if all values in matrix are from 0 to 5"
   ]
  },
  {
   "cell_type": "code",
   "execution_count": 87,
   "metadata": {
    "collapsed": false,
    "jupyter": {
     "outputs_hidden": false
    },
    "pycharm": {
     "name": "#%%\n"
    }
   },
   "outputs": [
    {
     "data": {
      "text/plain": [
       "True"
      ]
     },
     "execution_count": 87,
     "metadata": {},
     "output_type": "execute_result"
    }
   ],
   "source": [
    "df.isin([0, 1, 2, 3, 4, 5]).eq(True).all().eq(True).all()"
   ]
  },
  {
   "cell_type": "markdown",
   "metadata": {
    "pycharm": {
     "name": "#%% md\n"
    }
   },
   "source": [
    "Get sparsity of the Bewertungsmatrix:"
   ]
  },
  {
   "cell_type": "code",
   "execution_count": 88,
   "metadata": {
    "collapsed": false,
    "jupyter": {
     "outputs_hidden": false
    },
    "pycharm": {
     "name": "#%%\n"
    }
   },
   "outputs": [
    {
     "name": "stdout",
     "output_type": "stream",
     "text": [
      "A no_ratings of 1,486,126 from a total of 1,586,126 ratings!\n",
      "--> Sparsity: 0.937\n"
     ]
    }
   ],
   "source": [
    "no_ratings = (df == 0).values.sum()\n",
    "total = prod(df.shape)\n",
    "print(f'A no_ratings of {no_ratings:,} from a total of {total:,} ratings!')\n",
    "print(f'--> Sparsity: {round(no_ratings / total, 4)}')"
   ]
  },
  {
   "cell_type": "markdown",
   "metadata": {
    "pycharm": {
     "name": "#%% md\n"
    }
   },
   "source": [
    "### Use case for user 12 with Pearson similarity method"
   ]
  },
  {
   "cell_type": "code",
   "execution_count": 89,
   "metadata": {
    "collapsed": false,
    "jupyter": {
     "outputs_hidden": false
    },
    "pycharm": {
     "name": "#%%\n"
    }
   },
   "outputs": [
    {
     "name": "stdout",
     "output_type": "stream",
     "text": [
      "\n",
      "Movie                                                                  Predicted rating\n",
      "814. Great Day in Harlem  A(1994)                                      5.0       \n",
      "1122. They Made Me a Criminal(1939)                                    5.0       \n",
      "1189. Prefontaine(1997)                                                5.0       \n",
      "1201. Marlene Dietrich: Shadow and Light(1996)                         5.0       \n",
      "1500. Santa with Muscles(1996)                                         5.0       \n",
      "1536. Aiqing wansui(1994)                                              5.0       \n",
      "1599. Someone Elses America(1995)                                      5.0       \n",
      "1653. Entertaining Angels: The Dorothy Day Story(1996)                 5.0       \n",
      "1467. Saint of Fort Washington  The(1993)                              4.999999999999999\n",
      "1358. The Deadly Cure(1996)                                            4.7644368455497945\n"
     ]
    }
   ],
   "source": [
    "dic_items = recommend_to_user(df, 'User 12', 'Pearson')\n",
    "print(\"\\n{:<70} {:<10}\".format('Movie', 'Predicted rating'))\n",
    "count = 0\n",
    "for v in dic_items.items():\n",
    "    (movie, rating) = v\n",
    "    print(\"{:<70} {:<10}\".format(movie, rating))\n",
    "    count = count + 1\n",
    "    if count == 10:\n",
    "        break"
   ]
  }
 ],
 "metadata": {
  "kernelspec": {
   "display_name": "Python 3 (ipykernel)",
   "language": "python",
   "name": "python3"
  },
  "language_info": {
   "codemirror_mode": {
    "name": "ipython",
    "version": 3
   },
   "file_extension": ".py",
   "mimetype": "text/x-python",
   "name": "python",
   "nbconvert_exporter": "python",
   "pygments_lexer": "ipython3",
   "version": "3.9.7"
  }
 },
 "nbformat": 4,
 "nbformat_minor": 4
}
